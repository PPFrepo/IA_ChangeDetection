{
 "cells": [
  {
   "cell_type": "code",
   "execution_count": 1,
   "id": "59fc46b1-0c39-490c-a689-972aae2ca6bc",
   "metadata": {
    "tags": []
   },
   "outputs": [],
   "source": [
    "import pandas as pd\n",
    "import itertools"
   ]
  },
  {
   "cell_type": "code",
   "execution_count": 2,
   "id": "4a0f3659-4759-4834-8b14-936cf980217a",
   "metadata": {
    "tags": []
   },
   "outputs": [],
   "source": [
    "occluder = ['bubble', 'rectangle', 'scene']\n",
    "fruits = ['apple', 'avocado', 'kiwi', 'lemon', 'mango', 'pear']\n",
    "fruitpair = list(itertools.combinations(fruits, 2))\n",
    "items = [6]#[2, 4, 6]\n",
    "signal = ['signal', 'noise']"
   ]
  },
  {
   "cell_type": "code",
   "execution_count": 3,
   "id": "016df4d2-8887-4d71-bd1f-cfe713d6c83b",
   "metadata": {
    "tags": []
   },
   "outputs": [],
   "source": [
    "triallist = []\n",
    "for occl in occluder:\n",
    "    for i in items:\n",
    "        for pair in fruitpair:\n",
    "            distractors = tuple([f for f in fruits if f not in pair])\n",
    "            distractor_dict = {'distractor{}'.format(k+3): d for k, d in enumerate(distractors)}\n",
    "            \n",
    "            for s in signal:\n",
    "                # triallist.append({'occluder': occl, 'numer_items': i, 'target': pair, 'distractors': distractors, 'signal': s})\n",
    "                tmp_trial_dict = {'occluder': occl, 'number_items': i, 'signal': s, 'target1': pair[0], 'target2': pair[1], 'pair': '_'.join(pair)}\n",
    "                tmp_trial_dict.update(distractor_dict)\n",
    "                triallist.append(tmp_trial_dict)\n",
    "df = pd.DataFrame(triallist)\n",
    "df.to_csv('trialList_changeDetection.csv', index=False)"
   ]
  },
  {
   "cell_type": "code",
   "execution_count": null,
   "id": "962e5124-7d77-4dd7-bcd0-1f448f5f2469",
   "metadata": {},
   "outputs": [],
   "source": []
  }
 ],
 "metadata": {
  "kernelspec": {
   "display_name": "Python 3 (ipykernel)",
   "language": "python",
   "name": "python3"
  },
  "language_info": {
   "codemirror_mode": {
    "name": "ipython",
    "version": 3
   },
   "file_extension": ".py",
   "mimetype": "text/x-python",
   "name": "python",
   "nbconvert_exporter": "python",
   "pygments_lexer": "ipython3",
   "version": "3.8.18"
  }
 },
 "nbformat": 4,
 "nbformat_minor": 5
}
